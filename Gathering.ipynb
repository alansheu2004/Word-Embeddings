{
 "cells": [
  {
   "cell_type": "markdown",
   "id": "3c3debb1-e752-47ae-8e2c-dbd42ee9324e",
   "metadata": {},
   "source": [
    "# Gathering Data"
   ]
  },
  {
   "cell_type": "markdown",
   "id": "7c518ecb-4739-4323-bbea-f7b73e23e7fc",
   "metadata": {},
   "source": [
    "- https://stackoverflow.com/questions/4452102/how-to-get-plain-text-out-of-wikipedia"
   ]
  },
  {
   "cell_type": "code",
   "execution_count": 1,
   "id": "ce7e95c1-37d6-4ef5-bcec-372651c1f5e1",
   "metadata": {},
   "outputs": [],
   "source": [
    "import requests\n",
    "import os\n",
    "import random\n",
    "import time"
   ]
  },
  {
   "cell_type": "code",
   "execution_count": 2,
   "id": "5fd45976-c961-4480-b2c8-d8a0a0646e11",
   "metadata": {},
   "outputs": [],
   "source": [
    "# https://stackoverflow.com/questions/4452102/how-to-get-plain-text-out-of-wikipedia\n",
    "def store_data(title):\n",
    "    response = requests.get(\n",
    "         'https://www.mariowiki.com/w/api.php',\n",
    "         params={\n",
    "             'action': 'query',\n",
    "             'format': 'json',\n",
    "             'titles': title,\n",
    "             'prop': 'extracts',\n",
    "             'explaintext': False,\n",
    "        }\n",
    "    ).json()\n",
    "    \n",
    "    page = next(iter(response['query']['pages'].values()))\n",
    "    \n",
    "    with open(f\"data/{title}.txt\", 'w', encoding='utf-8') as file:\n",
    "        file.write(page['extract'])"
   ]
  },
  {
   "cell_type": "code",
   "execution_count": 3,
   "id": "cf708f9c-40bd-4b07-8a8a-008fcbfca083",
   "metadata": {},
   "outputs": [],
   "source": [
    "def find_links(title, cont=\"||\"):\n",
    "    response = requests.get(\n",
    "         'https://www.mariowiki.com/w/api.php',\n",
    "         params={\n",
    "             'action': 'query',\n",
    "             'format': 'json',\n",
    "             'plnamespace': 0,\n",
    "             'titles': title,\n",
    "             'prop': 'links',\n",
    "             'pllimit': 500,\n",
    "             'plcontinue': cont\n",
    "        }\n",
    "    ).json()\n",
    "\n",
    "    if('batchcomplete' in response.keys()):\n",
    "        return next(iter(response['query']['pages'].values()))['links']\n",
    "    else:\n",
    "        return next(iter(response['query']['pages'].values()))['links'] + find_links(title, response['continue']['plcontinue'])"
   ]
  },
  {
   "cell_type": "code",
   "execution_count": 4,
   "id": "3b06cc2b-a562-43c0-9e07-3f94134933cd",
   "metadata": {},
   "outputs": [],
   "source": [
    "n_pages = 1000\n",
    "title = \"Cappy\"\n",
    "\n",
    "for i in range(n_pages):\n",
    "    try:\n",
    "        store_data(title)\n",
    "    except:\n",
    "        title = random.choice(links)['title']\n",
    "        continue\n",
    "        \n",
    "    links = find_links(title)\n",
    "    last_title = title\n",
    "    title = random.choice(links)['title']\n",
    "    time.sleep(1. + random.random())"
   ]
  }
 ],
 "metadata": {
  "kernelspec": {
   "display_name": "Python 3 (ipykernel)",
   "language": "python",
   "name": "python3"
  },
  "language_info": {
   "codemirror_mode": {
    "name": "ipython",
    "version": 3
   },
   "file_extension": ".py",
   "mimetype": "text/x-python",
   "name": "python",
   "nbconvert_exporter": "python",
   "pygments_lexer": "ipython3",
   "version": "3.11.1"
  }
 },
 "nbformat": 4,
 "nbformat_minor": 5
}
