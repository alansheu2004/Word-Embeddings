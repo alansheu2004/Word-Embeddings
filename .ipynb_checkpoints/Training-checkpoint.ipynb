{
 "cells": [
  {
   "cell_type": "markdown",
   "id": "687149c7-ccd6-4fd0-8d88-b85a57f36d51",
   "metadata": {
    "id": "687149c7-ccd6-4fd0-8d88-b85a57f36d51"
   },
   "source": [
    "# Training the Model"
   ]
  },
  {
   "cell_type": "markdown",
   "id": "63b06d3d-379f-46c1-8c09-f5ce88d60fcb",
   "metadata": {
    "id": "63b06d3d-379f-46c1-8c09-f5ce88d60fcb"
   },
   "source": [
    "- https://jaketae.github.io/study/word2vec/\n",
    "- https://www.geeksforgeeks.org/word-embeddings-in-nlp/\n",
    "- https://www.youtube.com/playlist?list=PLhWB2ZsrULv-wEM8JDKA1zk8_2Lc88I-s\n",
    "- https://towardsdatascience.com/skip-gram-neural-network-from-scratch-485f2e688238\n",
    "- https://stackoverflow.com/questions/4576077/how-can-i-split-a-text-into-sentences\n",
    "- https://mccormickml.com/2017/01/11/word2vec-tutorial-part-2-negative-sampling/"
   ]
  },
  {
   "cell_type": "code",
   "execution_count": 2,
   "id": "GYSq9cdShhC0",
   "metadata": {
    "colab": {
     "base_uri": "https://localhost:8080/"
    },
    "id": "GYSq9cdShhC0",
    "outputId": "7ff1de35-e434-4a27-ea3a-3f38337b126a"
   },
   "outputs": [
    {
     "ename": "ModuleNotFoundError",
     "evalue": "No module named 'google'",
     "output_type": "error",
     "traceback": [
      "\u001b[1;31m---------------------------------------------------------------------------\u001b[0m",
      "\u001b[1;31mModuleNotFoundError\u001b[0m                       Traceback (most recent call last)",
      "Cell \u001b[1;32mIn[2], line 1\u001b[0m\n\u001b[1;32m----> 1\u001b[0m \u001b[38;5;28;01mfrom\u001b[39;00m \u001b[38;5;21;01mgoogle\u001b[39;00m\u001b[38;5;21;01m.\u001b[39;00m\u001b[38;5;21;01mcolab\u001b[39;00m \u001b[38;5;28;01mimport\u001b[39;00m drive\n\u001b[0;32m      2\u001b[0m drive\u001b[38;5;241m.\u001b[39mmount(\u001b[38;5;124m'\u001b[39m\u001b[38;5;124m/content/drive\u001b[39m\u001b[38;5;124m'\u001b[39m)\n",
      "\u001b[1;31mModuleNotFoundError\u001b[0m: No module named 'google'"
     ]
    }
   ],
   "source": [
    "from google.colab import drive\n",
    "drive.mount('/content/drive')"
   ]
  },
  {
   "cell_type": "code",
   "execution_count": 1,
   "id": "8558ba9b-809b-4c90-890b-0a64a3232efe",
   "metadata": {
    "id": "8558ba9b-809b-4c90-890b-0a64a3232efe"
   },
   "outputs": [],
   "source": [
    "import os\n",
    "import re\n",
    "import math\n",
    "import itertools\n",
    "import time\n",
    "import random\n",
    "\n",
    "import pickle as pkl\n",
    "\n",
    "import numpy as np\n",
    "import jax\n",
    "import jax.numpy as jnp\n",
    "\n",
    "import matplotlib.pyplot as plt\n",
    "\n",
    "seed = 12345"
   ]
  },
  {
   "cell_type": "markdown",
   "id": "67f0017c-1fce-481a-83fe-5b80001bc50d",
   "metadata": {
    "id": "67f0017c-1fce-481a-83fe-5b80001bc50d"
   },
   "source": [
    "## Data Processing"
   ]
  },
  {
   "cell_type": "code",
   "execution_count": 2,
   "id": "a867622f-a851-437b-a90a-bc6ddddcb7cc",
   "metadata": {
    "id": "a867622f-a851-437b-a90a-bc6ddddcb7cc"
   },
   "outputs": [],
   "source": [
    "# Split a string into a list of words\n",
    "def tokenize(document):\n",
    "    pattern = re.compile(r'[A-Za-z]+[\\w^\\']*|[\\w^\\']*[A-Za-z]+[\\w^\\']*')\n",
    "    return pattern.findall(document.lower())\n",
    "\n",
    "# Tokenizes each string in the list.\n",
    "# by_sentence splits each document into sentences beforehand\n",
    "def batch_tokenize(documents, by_sentence):\n",
    "    if by_sentence:\n",
    "        return list(itertools.chain.from_iterable(\n",
    "            [[tokenize(sentence) for sentence in split_into_sentences(document)] for document in documents]\n",
    "        ))\n",
    "    else:\n",
    "        return [tokenize(document) for document in documents]\n",
    "\n",
    "# From a list of tokenized documents gets unique vocabulary words with their frequencies\n",
    "def generate_vocab_counts(documents):\n",
    "    vocab = {}\n",
    "    for document in documents:\n",
    "         for word in document:\n",
    "             if word in vocab.keys():\n",
    "                 vocab[word] += 1\n",
    "             else:\n",
    "                 vocab[word] = 1\n",
    "    return vocab"
   ]
  },
  {
   "cell_type": "code",
   "execution_count": 3,
   "id": "ae2475e1-0801-4170-8a31-b37620b3034a",
   "metadata": {
    "id": "ae2475e1-0801-4170-8a31-b37620b3034a"
   },
   "outputs": [],
   "source": [
    "alphabets= \"([A-Za-z])\"\n",
    "prefixes = \"(Mr|St|Mrs|Ms|Dr)[.]\"\n",
    "suffixes = \"(Inc|Ltd|Jr|Sr|Co|Bros)\"\n",
    "starters = \"(Mr|Mrs|Ms|Dr|Prof|Capt|Cpt|Lt|He\\s|She\\s|It\\s|They\\s|Their\\s|Our\\s|We\\s|But\\s|However\\s|That\\s|This\\s|Wherever)\"\n",
    "acronyms = \"([A-Z][.][A-Z][.](?:[A-Z][.])?)\"\n",
    "websites = \"[.](com|net|org|io|gov|edu|me)\"\n",
    "digits = \"([0-9])\"\n",
    "multiple_dots = r'\\.{2,}'\n",
    "\n",
    "# Split a string into sentences\n",
    "# https://stackoverflow.com/questions/4576077/how-can-i-split-a-text-into-sentences\n",
    "def split_into_sentences(text: str) -> list[str]:\n",
    "    \"\"\"\n",
    "    Split the text into sentences.\n",
    "\n",
    "    If the text contains substrings \"<prd>\" or \"<stop>\", they would lead\n",
    "    to incorrect splitting because they are used as markers for splitting.\n",
    "\n",
    "    :param text: text to be split into sentences\n",
    "    :type text: str\n",
    "\n",
    "    :return: list of sentences\n",
    "    :rtype: list[str]\n",
    "    \"\"\"\n",
    "    text = \" \" + text + \"  \"\n",
    "    text = text.replace(\"\\n\",\" \")\n",
    "    text = re.sub(prefixes,\"\\\\1<prd>\",text)\n",
    "    text = re.sub(websites,\"<prd>\\\\1\",text)\n",
    "    text = re.sub(digits + \"[.]\" + digits,\"\\\\1<prd>\\\\2\",text)\n",
    "    text = re.sub(multiple_dots, lambda match: \"<prd>\" * len(match.group(0)) + \"<stop>\", text)\n",
    "    if \"Ph.D\" in text: text = text.replace(\"Ph.D.\",\"Ph<prd>D<prd>\")\n",
    "    text = re.sub(\"\\s\" + alphabets + \"[.] \",\" \\\\1<prd> \",text)\n",
    "    text = re.sub(acronyms+\" \"+starters,\"\\\\1<stop> \\\\2\",text)\n",
    "    text = re.sub(alphabets + \"[.]\" + alphabets + \"[.]\" + alphabets + \"[.]\",\"\\\\1<prd>\\\\2<prd>\\\\3<prd>\",text)\n",
    "    text = re.sub(alphabets + \"[.]\" + alphabets + \"[.]\",\"\\\\1<prd>\\\\2<prd>\",text)\n",
    "    text = re.sub(\" \"+suffixes+\"[.] \"+starters,\" \\\\1<stop> \\\\2\",text)\n",
    "    text = re.sub(\" \"+suffixes+\"[.]\",\" \\\\1<prd>\",text)\n",
    "    text = re.sub(\" \" + alphabets + \"[.]\",\" \\\\1<prd>\",text)\n",
    "    if \"”\" in text: text = text.replace(\".”\",\"”.\")\n",
    "    if \"\\\"\" in text: text = text.replace(\".\\\"\",\"\\\".\")\n",
    "    if \"!\" in text: text = text.replace(\"!\\\"\",\"\\\"!\")\n",
    "    if \"?\" in text: text = text.replace(\"?\\\"\",\"\\\"?\")\n",
    "    text = text.replace(\".\",\".<stop>\")\n",
    "    text = text.replace(\"?\",\"?<stop>\")\n",
    "    text = text.replace(\"!\",\"!<stop>\")\n",
    "    text = text.replace(\"<prd>\",\".\")\n",
    "    sentences = text.split(\"<stop>\")\n",
    "    sentences = [s.strip() for s in sentences]\n",
    "    if sentences and not sentences[-1]: sentences = sentences[:-1]\n",
    "    return sentences"
   ]
  },
  {
   "cell_type": "code",
   "execution_count": 118,
   "id": "e7fb74c9-e546-40d0-9179-578e96369593",
   "metadata": {
    "id": "e7fb74c9-e546-40d0-9179-578e96369593"
   },
   "outputs": [],
   "source": [
    "# Remove Low Frequency\n",
    "def remove_low_freq(documents, vocab_counts, min_frequency):\n",
    "    return [[word for word in document if vocab_counts[word] >= min_frequency] for document in documents]"
   ]
  },
  {
   "cell_type": "code",
   "execution_count": 119,
   "id": "83e14749-466a-47d7-963e-c87ae753be18",
   "metadata": {
    "id": "83e14749-466a-47d7-963e-c87ae753be18"
   },
   "outputs": [],
   "source": [
    "# Iterate through all text files and tokenize\n",
    "mario_texts = []\n",
    "data_dir = 'data/'\n",
    "for file_name in os.listdir(data_dir):\n",
    "    if not file_name.endswith(\".txt\"):\n",
    "        continue\n",
    "    with open(os.path.join(data_dir, file_name), 'r', encoding='utf-8') as file:\n",
    "        mario_texts.append(file.read())\n",
    "\n",
    "with open(os.path.join(data_dir, \"Boo.txt\"), 'r', encoding='utf-8') as file:\n",
    "    mario_texts.append(file.read())\n",
    "\n",
    "mario_documents = batch_tokenize(mario_texts, False)\n",
    "mario_documents_sentences = batch_tokenize(mario_texts, True)\n",
    "mario_vocab_counts = generate_vocab_counts(mario_documents)\n",
    "\n",
    "mario_documents = remove_low_freq(mario_documents, mario_vocab_counts, 4)\n",
    "mario_documents_sentences = remove_low_freq(mario_documents_sentences, mario_vocab_counts, 4)\n",
    "mario_vocab_counts = generate_vocab_counts(mario_documents)\n",
    "\n",
    "# model_dir = 'models/'\n",
    "model_dir = 'drive/MyDrive'\n",
    "\n",
    "# with open('data/mario_documents.pkl', 'r') as file:\n",
    "#     mario_documents = pkl.load(file)\n",
    "\n",
    "# with open('data/mario_documents_sentences.pkl', 'r') as file:\n",
    "#     mario_documents_sentences = pkl.load(file)\n",
    "\n",
    "# with open('data/mario_vocab_counts.pkl', 'r') as file:\n",
    "#     mario_vocab_counts = pkl.load(file)"
   ]
  },
  {
   "cell_type": "code",
   "execution_count": 8,
   "id": "48d2dc09-4b1f-4a52-92be-bbc06e1d5bbb",
   "metadata": {
    "id": "48d2dc09-4b1f-4a52-92be-bbc06e1d5bbb"
   },
   "outputs": [],
   "source": [
    "# with open('data/mario_documents.pkl', 'wb') as file:\n",
    "#     pkl.dump(mario_documents, file)\n",
    "\n",
    "# with open('data/mario_documents_sentences.pkl', 'wb') as file:\n",
    "#     pkl.dump(mario_documents_sentences, file)\n",
    "\n",
    "# with open('data/mario_vocab_counts.pkl', 'wb') as file:\n",
    "#     pkl.dump(mario_vocab_counts, file)"
   ]
  },
  {
   "cell_type": "markdown",
   "id": "0cacae55-d443-49e7-8ce4-54de56db5b5b",
   "metadata": {
    "id": "0cacae55-d443-49e7-8ce4-54de56db5b5b"
   },
   "source": [
    "## Non-Neural Representations"
   ]
  },
  {
   "cell_type": "code",
   "execution_count": 5,
   "id": "1c3f7f18-c709-43e4-a74f-34ac0984a3fb",
   "metadata": {
    "id": "1c3f7f18-c709-43e4-a74f-34ac0984a3fb"
   },
   "outputs": [],
   "source": [
    "# Get a one-hot representation of a word in a vocab list\n",
    "def one_hot_str(word, vocab_to_id):\n",
    "    return one_hot_int(vocab_to_id[word], len(vocab_to_id))\n",
    "\n",
    "def one_hot_int(index, vocab_size):\n",
    "    out = np.zeros(vocab_size)\n",
    "    out[index] = 1\n",
    "    return out\n",
    "\n",
    "def batch_one_hot_str(words, vocab_to_id):\n",
    "    return [one_hot_int(word, vocab_to_id) for word in words]\n",
    "\n",
    "def batch_one_hot_int(indices, vocab_size):\n",
    "    return [one_hot_int(index, vocab_size) for index in indices if index >= 0]\n",
    "\n",
    "def batch_one_hot(words, vocab, index=False):\n",
    "    return"
   ]
  },
  {
   "cell_type": "code",
   "execution_count": 122,
   "id": "83ae9f76-648d-4b3f-9ebb-c2338ec16955",
   "metadata": {
    "id": "83ae9f76-648d-4b3f-9ebb-c2338ec16955"
   },
   "outputs": [],
   "source": [
    "# document and frequency based vectorization\n",
    "def tfidf(vocab_to_id, documents):\n",
    "    tf = []\n",
    "    idf = np.zeros(len(vocab_to_id))\n",
    "    for document in documents:\n",
    "        tf_row = np.zeros(len(vocab_to_id))\n",
    "        for word in document:\n",
    "            tf_row[vocab_to_id[word]] += 1\n",
    "        tf_row /= len(document)\n",
    "        tf.append(tf_row)\n",
    "        idf += np.where(tf_row > 0, 1, 0)\n",
    "    idf = np.log(len(documents) / idf)\n",
    "    return (tf * idf).T\n",
    "\n",
    "mario_tfidf = tfidf(dict(zip(mario_vocab_counts.keys(), range(len(mario_vocab_counts)))), mario_documents)"
   ]
  },
  {
   "cell_type": "markdown",
   "id": "752e865e-5706-437d-a171-425b657cf6a1",
   "metadata": {
    "id": "752e865e-5706-437d-a171-425b657cf6a1"
   },
   "source": [
    "## Skipgram and CBOW"
   ]
  },
  {
   "cell_type": "code",
   "execution_count": 11,
   "id": "c6a3809c-4df1-4ee2-9f35-82e655a73223",
   "metadata": {
    "id": "c6a3809c-4df1-4ee2-9f35-82e655a73223"
   },
   "outputs": [],
   "source": [
    "# Probability of sampling a word given its frequency\n",
    "def subsample_prob(frequency, subsample_rate):\n",
    "    return (math.sqrt(frequency / subsample_rate) + 1) * (subsample_rate / frequency)\n",
    "\n",
    "def subsample(vocab_counts, documents, subsample_rate):\n",
    "    total_count = sum(vocab_counts.values())\n",
    "    vocab_subsample_rate = {key: subsample_prob(vocab_counts[key] / total_count, subsample_rate) for key in vocab_counts.keys()}\n",
    "    np.random.seed(seed)\n",
    "    documents_copy = documents.copy()\n",
    "    for document in documents_copy:\n",
    "        i = 0\n",
    "        while i < len(document):\n",
    "            if np.random.uniform(0, 1) < vocab_subsample_rate[document[i]]:\n",
    "                document.pop(i)\n",
    "            else:\n",
    "                i += 1\n",
    "    return documents_copy"
   ]
  },
  {
   "cell_type": "code",
   "execution_count": 12,
   "id": "MY045aN9vXZ5",
   "metadata": {
    "id": "MY045aN9vXZ5"
   },
   "outputs": [],
   "source": [
    "choose_indices = jax.jit(jax.random.choice)"
   ]
  },
  {
   "cell_type": "code",
   "execution_count": 13,
   "id": "55747b8d-e4bd-4727-b59a-971e9f96afe3",
   "metadata": {
    "id": "55747b8d-e4bd-4727-b59a-971e9f96afe3"
   },
   "outputs": [],
   "source": [
    "# Returns indices in the vocab\n",
    "def skipgram(documents, vocab_counts, vocab_to_id, left_context_window, right_context_window, k_negsample):\n",
    "    vocab_negsample_rate = {key: vocab_counts[key]**(3/4) for key in vocab_counts.keys()}\n",
    "    negsample_rate_sum = sum(vocab_negsample_rate.values())\n",
    "    vocab_negsample_rate = {key: vocab_negsample_rate[key] / negsample_rate_sum for key in vocab_counts.keys()}\n",
    "\n",
    "    np.random.seed(seed)\n",
    "    total_words = sum([len(document) for document in documents])\n",
    "    random_indices = np.random.choice(\n",
    "        len(vocab_negsample_rate), \\\n",
    "        total_words * (left_context_window + right_context_window) * k_negsample,\n",
    "        p = list(vocab_negsample_rate.values())\n",
    "    )\n",
    "    k = 0\n",
    "\n",
    "    contexts = []\n",
    "    targets = []\n",
    "    labels = []\n",
    "    for document in documents:\n",
    "        for i in range(len(document)):\n",
    "            target = document[i]\n",
    "            target_index = vocab_to_id[target]\n",
    "\n",
    "            for j in range(max(0, i - left_context_window), min(i + right_context_window + 1, len(document))):\n",
    "                if i == j:\n",
    "                    continue\n",
    "\n",
    "                targets.append(target_index)\n",
    "                contexts.append(vocab_to_id[document[j]])\n",
    "                labels.append(1)\n",
    "\n",
    "                for _ in range(k_negsample):\n",
    "                    targets.append(target_index)\n",
    "                    contexts.append(random_indices[k])\n",
    "                    labels.append(0)\n",
    "                    k += 1\n",
    "\n",
    "    return (jnp.array(contexts), jnp.array(targets), jnp.array(labels))"
   ]
  },
  {
   "cell_type": "code",
   "execution_count": 14,
   "id": "6ec6fbd9-359f-44a3-bc43-114056de4d74",
   "metadata": {
    "id": "6ec6fbd9-359f-44a3-bc43-114056de4d74"
   },
   "outputs": [],
   "source": [
    "# context filled with -1 to reach homgenous shape\n",
    "def cbow(documents, vocab_counts, vocab_to_id, left_context_window, right_context_window, k_negsample):\n",
    "    vocab_negsample_rate = {key: vocab_counts[key]**(3/4) for key in vocab_counts.keys()}\n",
    "    negsample_rate_sum = sum(vocab_negsample_rate.values())\n",
    "    vocab_negsample_rate = {key: vocab_negsample_rate[key] / negsample_rate_sum for key in vocab_counts.keys()}\n",
    "\n",
    "    np.random.seed(seed)\n",
    "    total_words = sum([len(document) for document in documents])\n",
    "    random_indices = np.random.choice(\n",
    "        len(vocab_negsample_rate), \\\n",
    "        total_words * (left_context_window + right_context_window) * k_negsample,\n",
    "        p = list(vocab_negsample_rate.values())\n",
    "    )\n",
    "    k = 0\n",
    "\n",
    "    contexts = []\n",
    "    targets = []\n",
    "    labels = []\n",
    "    for document in documents:\n",
    "        for i in range(len(document)):\n",
    "            target = document[i]\n",
    "            target_index = vocab_to_id[target]\n",
    "\n",
    "            context = []\n",
    "            for j in range(max(0, i - left_context_window), min(i + right_context_window + 1, len(document))):\n",
    "                if i != j:\n",
    "                    context.append(vocab_to_id[document[j]])\n",
    "            while len(context) < left_context_window + right_context_window:\n",
    "                context.append(-1)\n",
    "\n",
    "            targets.append(target_index)\n",
    "            contexts.append(context)\n",
    "            labels.append(1)\n",
    "\n",
    "            for _ in range(k_negsample):\n",
    "                targets.append(random_indices[k])\n",
    "                contexts.append(context)\n",
    "                labels.append(0)\n",
    "                k += 1\n",
    "\n",
    "    return (jnp.array(contexts), jnp.array(targets), jnp.array(labels))"
   ]
  },
  {
   "cell_type": "markdown",
   "id": "fba82eb1-d369-4e29-860d-54ed7dafcc66",
   "metadata": {
    "id": "fba82eb1-d369-4e29-860d-54ed7dafcc66"
   },
   "source": [
    "## Softmax Architecture"
   ]
  },
  {
   "cell_type": "code",
   "execution_count": 15,
   "id": "1803c7f6-b916-4de1-9b54-9c98cf111e7d",
   "metadata": {
    "id": "1803c7f6-b916-4de1-9b54-9c98cf111e7d"
   },
   "outputs": [],
   "source": [
    "@jax.jit\n",
    "def softmax(x):\n",
    "    exp_x = jnp.exp(x - jnp.max(x, axis=1, keepdims=True))\n",
    "    return exp_x / jnp.sum(exp_x, axis=1, keepdims=True)"
   ]
  },
  {
   "cell_type": "code",
   "execution_count": 16,
   "id": "103f6239-0487-488b-aba6-046c4499a600",
   "metadata": {
    "id": "103f6239-0487-488b-aba6-046c4499a600"
   },
   "outputs": [],
   "source": [
    "@jax.jit\n",
    "def softmax_skipgram_net(params, target):\n",
    "    output = params['E'][target]\n",
    "    output = output @ params['Theta']\n",
    "    output = softmax(output)\n",
    "    return output\n",
    "\n",
    "@jax.jit\n",
    "def softmax_skipgram_loss(params, target, y_true):\n",
    "    y_pred = softmax_skipgram_net(params, target)\n",
    "    return jnp.mean(-jnp.sum(jnp.log(y_pred + 1e-8) * y_true, axis=1))\n",
    "softmax_skipgram_loss_value_and_grad = jax.jit(jax.value_and_grad(softmax_skipgram_loss))"
   ]
  },
  {
   "cell_type": "code",
   "execution_count": 26,
   "id": "d43e6b09-2a3f-4bfb-aa43-dc234ba937d6",
   "metadata": {
    "id": "d43e6b09-2a3f-4bfb-aa43-dc234ba937d6"
   },
   "outputs": [],
   "source": [
    "@jax.jit\n",
    "def softmax_cbow_net(params, context):\n",
    "    output = np.mean(jnp.vstack([params['E'], jnp.zeros(context.shape[1])])[context], axis=1)\n",
    "    output = output @ params['Theta']\n",
    "    output = softmax(output)\n",
    "    return output\n",
    "\n",
    "@jax.jit\n",
    "def softmax_cbow_loss(params, context, y_true):\n",
    "    y_pred = softmax_cbow_net(params, context)\n",
    "    return jnp.mean(-jnp.sum(jnp.log(y_pred + 1e-8) * y_true, axis=1))\n",
    "softmax_cbow_loss_value_and_grad = jax.jit(jax.value_and_grad(softmax_cbow_loss))"
   ]
  },
  {
   "cell_type": "markdown",
   "id": "699f2e04-6ad9-4e21-a05d-9b3e9bf317f1",
   "metadata": {
    "id": "699f2e04-6ad9-4e21-a05d-9b3e9bf317f1"
   },
   "source": [
    "## Negative Sampling Architecture"
   ]
  },
  {
   "cell_type": "code",
   "execution_count": 26,
   "id": "71130ed0-c751-41cb-a192-72a871ec1e31",
   "metadata": {
    "id": "71130ed0-c751-41cb-a192-72a871ec1e31"
   },
   "outputs": [],
   "source": [
    "@jax.jit\n",
    "def sigmoid(X):\n",
    "    return jnp.where(X >= 0,\n",
    "        1/(1+jnp.exp(-X)),\n",
    "        jnp.exp(X)/(1+jnp.exp(X))\n",
    "    )"
   ]
  },
  {
   "cell_type": "code",
   "execution_count": 18,
   "id": "e2d8d9e3-2c2d-4ee4-8b32-4b5362d0397e",
   "metadata": {
    "id": "e2d8d9e3-2c2d-4ee4-8b32-4b5362d0397e"
   },
   "outputs": [],
   "source": [
    "@jax.jit\n",
    "def negsample_skipgram_net(params, context, target):\n",
    "    target_embedding = params['E'][target]\n",
    "    context_parameter = params['Theta'][context]\n",
    "    output = jnp.sum(target_embedding * context_parameter, axis=1)\n",
    "    output = sigmoid(output)\n",
    "    return output\n",
    "\n",
    "@jax.jit\n",
    "def negsample_skipgram_loss(params, context, target, label_true):\n",
    "    label_pred = negsample_skipgram_net(params, context, target)\n",
    "    return jnp.mean(-jnp.log(jnp.where(label_true == 1, label_pred, 1-label_pred) + 1e-8))\n",
    "negsample_skipgram_loss_value_and_grad = jax.jit(jax.value_and_grad(negsample_skipgram_loss))"
   ]
  },
  {
   "cell_type": "code",
   "execution_count": 17,
   "id": "23e48817-5fb9-4f49-b7d8-ec3cb52b1f72",
   "metadata": {
    "id": "23e48817-5fb9-4f49-b7d8-ec3cb52b1f72"
   },
   "outputs": [],
   "source": [
    "@jax.jit\n",
    "def negsample_cbow_net(params, context, target):\n",
    "    context_embedding = jnp.mean(params['E'][context], axis=1)\n",
    "    target_parameter = params['Theta'][target]\n",
    "    output = jnp.sum(context_embedding * target_parameter, axis=1)\n",
    "    output = sigmoid(output)\n",
    "    return output\n",
    "\n",
    "@jax.jit\n",
    "def negsample_cbow_loss(params, context, target, label_true):\n",
    "    label_pred = negsample_cbow_net(params, context, target)\n",
    "    return jnp.mean(-jnp.log(jnp.where(label_true == 1, label_pred, 1-label_pred) + 1e-8))\n",
    "negsample_cbow_loss_value_and_grad = jax.jit(jax.value_and_grad(negsample_cbow_loss))"
   ]
  },
  {
   "cell_type": "markdown",
   "id": "fd2bf6bf-132e-40e1-9473-13c22429795d",
   "metadata": {
    "id": "fd2bf6bf-132e-40e1-9473-13c22429795d"
   },
   "source": [
    "## Model"
   ]
  },
  {
   "cell_type": "code",
   "execution_count": 81,
   "id": "852129b4-cadb-4083-b331-f8ad323ad05c",
   "metadata": {
    "id": "852129b4-cadb-4083-b331-f8ad323ad05c"
   },
   "outputs": [],
   "source": [
    "# k_negsample = 0 to do softmax else negative sampling\n",
    "class Model:\n",
    "    def __init__(self, mode, vocab_counts, n_embeddings, left_context_window, right_context_window, k_negsample, reset_params=True):\n",
    "        assert mode in [\"skipgram\", \"cbow\"]\n",
    "        self.mode = mode\n",
    "\n",
    "        self.vocab_counts = vocab_counts\n",
    "        self.vocab_size = len(vocab_counts)\n",
    "        self.vocab_to_id = dict(zip(vocab_counts.keys(), range(len(vocab_counts))))\n",
    "        self.id_to_vocab = dict(zip(range(len(vocab_counts)), vocab_counts.keys()))\n",
    "\n",
    "        self.n_embeddings = n_embeddings\n",
    "        self.left_context_window = left_context_window\n",
    "        self.right_context_window = right_context_window\n",
    "        self.k_negsample = k_negsample\n",
    "\n",
    "        self.loss_history = []\n",
    "        self.time_history = []\n",
    "\n",
    "        if reset_params:\n",
    "            self.initialize_params()\n",
    "\n",
    "    def initialize_params(self):\n",
    "        np.random.seed(seed)\n",
    "        if self.k_negsample > 0:\n",
    "            self.params = {\n",
    "                'E': np.random.normal(0, np.sqrt(1/self.vocab_size), (self.vocab_size, self.n_embeddings)),\n",
    "                'Theta': np.random.normal(0, np.sqrt(1/self.vocab_size), (self.vocab_size, self.n_embeddings))\n",
    "            }\n",
    "        else:\n",
    "            self.params = {\n",
    "                'E': np.random.normal(0, np.sqrt(1/self.vocab_size), (self.vocab_size, self.n_embeddings)),\n",
    "                'Theta': np.random.normal(0, np.sqrt(1/self.n_embeddings), (self.n_embeddings, self.vocab_size))\n",
    "            }\n",
    "\n",
    "    def train(self, documents,\n",
    "              lr, beta1, beta2, epsilon,\n",
    "              n_epochs, batch_size, subsample_rate):\n",
    "\n",
    "        documents_subsampled = subsample(self.vocab_counts, documents, subsample_rate)\n",
    "        print(\"Subsampled\")\n",
    "\n",
    "        if self.mode == \"skipgram\":\n",
    "            contexts, targets, labels = skipgram(documents_subsampled, self.vocab_counts, self.vocab_to_id, self.left_context_window, self.right_context_window, self.k_negsample)\n",
    "        elif self.mode == \"cbow\":\n",
    "            contexts, targets, labels = cbow(documents_subsampled, self.vocab_counts, self.vocab_to_id, self.left_context_window, self.right_context_window, self.k_negsample)\n",
    "        print(\"Training Data Generated\")\n",
    "\n",
    "        self.contexts = contexts\n",
    "        self.targets = targets\n",
    "        self.labels = labels\n",
    "\n",
    "        n_batches = int(len(contexts) / batch_size)\n",
    "        self.loss_history = []\n",
    "        self.time_history = []\n",
    "        start_time = time.time()\n",
    "        m = None\n",
    "        v = None\n",
    "        np.random.seed(seed)\n",
    "        for epoch in range(n_epochs):\n",
    "\n",
    "            valid_shuffle = False\n",
    "            while not valid_shuffle:\n",
    "                shuffled_indices = np.random.permutation(len(contexts))\n",
    "                shuffled_contexts = contexts[shuffled_indices]\n",
    "                shuffled_targets = targets[shuffled_indices]\n",
    "                shuffled_labels = labels[shuffled_indices]\n",
    "\n",
    "                valid_shuffle = True\n",
    "                for batch in range(n_batches):\n",
    "                    label_batch = shuffled_labels[batch*batch_size : (batch+1)*batch_size]\n",
    "                    if np.mean(label_batch) == 0 or np.mean(label_batch) == 1:\n",
    "                        valid_shuffle = False\n",
    "                        break\n",
    "\n",
    "            epoch_loss_history = []\n",
    "            for batch in range(n_batches):\n",
    "                context_batch = shuffled_contexts[batch*batch_size : (batch+1)*batch_size]\n",
    "                target_batch = shuffled_targets[batch*batch_size : (batch+1)*batch_size]\n",
    "                label_batch = shuffled_labels[batch*batch_size : (batch+1)*batch_size]\n",
    "\n",
    "                if self.k_negsample > 0:\n",
    "                    if self.mode == \"skipgram\":\n",
    "                        loss, loss_grad = negsample_skipgram_loss_value_and_grad(self.params, context_batch, target_batch, label_batch)\n",
    "                    elif self.mode == \"cbow\":\n",
    "                        loss, loss_grad = negsample_cbow_loss_value_and_grad(self.params, context_batch, target_batch, label_batch)\n",
    "                else:\n",
    "                    if self.mode == \"skipgram\":\n",
    "                        one_hot_context_batch = jnp.array(batch_one_hot_int(context_batch, self.vocab_size))\n",
    "                        loss, loss_grad = softmax_skipgram_loss_value_and_grad(self.params, target_batch, one_hot_context_batch)\n",
    "                    elif self.mode == \"cbow\":\n",
    "                        one_hot_target_batch = jnp.array(batch_one_hot_int(target_batch, self.vocab_size))\n",
    "                        loss, loss_grad = softmax_cbow_loss_value_and_grad(self.params, context_batch, one_hot_target_batch)\n",
    "\n",
    "                if jnp.any(jnp.isnan(loss)) or jnp.any(jnp.isnan(loss_grad['E'])) or jnp.any(jnp.isnan(loss_grad['Theta'])):\n",
    "                    self.loss = loss\n",
    "                    self.loss_grad = loss_grad\n",
    "                    self.context_batch = context_batch\n",
    "                    self.target_batch = target_batch\n",
    "                    self.label_batch = label_batch\n",
    "                    return\n",
    "\n",
    "                if m == None:\n",
    "                    m = loss_grad\n",
    "                    v = {key: loss_grad[key]**2 for key in loss_grad.keys()}\n",
    "                else:\n",
    "                    m = {key: beta1*m[key] + (1-beta1)*loss_grad[key] for key in loss_grad.keys()}\n",
    "                    v = {key: beta2*v[key] + (1-beta2)*(loss_grad[key]**2) for key in loss_grad.keys()}\n",
    "\n",
    "                self.params = {key: self.params[key] - lr * m[key] / (epsilon + jnp.sqrt(v[key])) for key in self.params.keys()}\n",
    "\n",
    "                epoch_loss_history.append(loss)\n",
    "\n",
    "            self.loss_history.append(np.mean(epoch_loss_history))\n",
    "            self.time_history.append(time.time() - start_time)\n",
    "            print(f'Epoch {epoch}/{n_epochs}: {np.mean(epoch_loss_history)}')\n",
    "\n",
    "    # takes in the word for skipgram, list of words for cbow\n",
    "    def predict(self, X, Y=\"\"):\n",
    "        if self.k_negsample > 0:\n",
    "            if self.mode == \"skipgram\":\n",
    "                return negsample_skipgram_net(self.params, jnp.array([self.vocab_to_id[X]]), jnp.array([self.vocab_to_id[Y]]))\n",
    "            elif self.mode == \"cbow\":\n",
    "                return negsample_cbow_net(self.params, jnp.array([[self.vocab_to_id[context] for context in X]]), jnp.array([self.vocab_to_id[Y]]))\n",
    "        else:\n",
    "            if self.mode == \"skipgram\":\n",
    "                return softmax_skipgram_net(self.params, jnp.array([self.vocab_to_id[X]]))\n",
    "            elif self.mode == \"cbow\":\n",
    "                return softmax_cbow_net(self.params, jnp.array([[self.vocab_to_id[context] for context in X]]))\n",
    "\n",
    "    def get_embedding(self, word):\n",
    "        return self.params['E'][self.vocab_to_id[word]]"
   ]
  },
  {
   "cell_type": "code",
   "execution_count": 38,
   "id": "8df8d5d2-d145-427e-9e85-54d67c165561",
   "metadata": {
    "colab": {
     "base_uri": "https://localhost:8080/"
    },
    "id": "8df8d5d2-d145-427e-9e85-54d67c165561",
    "outputId": "0cbd127a-1f19-4d10-a340-e6d63511c383",
    "scrolled": true
   },
   "outputs": [],
   "source": [
    "# mario_model_cbow2 = Model(\"cbow\", mario_vocab_counts, 200, 2, 2, 7)\n",
    "# mario_model_cbow5 = Model(\"cbow\", mario_vocab_counts, 200, 5, 5, 7)\n",
    "# mario_model_skipgram2 = Model(\"skipgram\", mario_vocab_counts, 200, 2, 2, 7)\n",
    "# mario_model_skipgram5 = Model(\"skipgram\", mario_vocab_counts, 200, 5, 5, 7)\n",
    "\n",
    "# models = [\n",
    "#     mario_model_cbow2,\n",
    "#     mario_model_cbow5,\n",
    "#     # mario_model_skipgram2,\n",
    "#     # mario_model_skipgram5\n",
    "# ]\n",
    "\n",
    "# for model in models:\n",
    "#     model.train(mario_documents_sentences, 0.0025, 0.9, 0.999, 1e-8, 15, 512, 0.0001)\n",
    "#     with open(os.path.join(model_dir, f'mario_model_{model.mode}{model.left_context_window}.pkl'), 'wb') as file:\n",
    "#         pkl.dump(model, file)"
   ]
  },
  {
   "cell_type": "code",
   "execution_count": 116,
   "id": "4e16a9e4-e08e-4f05-b8e2-051e835654c1",
   "metadata": {},
   "outputs": [],
   "source": [
    "model_dir = 'models'\n",
    "\n",
    "with open(os.path.join(model_dir, 'mario_tfidf.pkl'), 'rb') as file:\n",
    "    mario_tfidf = pkl.load(file).T\n",
    "\n",
    "with open(os.path.join(model_dir, 'mario_model_cbow2.pkl'), 'rb') as file:\n",
    "    mario_model_cbow2 = pkl.load(file)\n",
    "\n",
    "with open(os.path.join(model_dir, 'mario_model_cbow5.pkl'), 'rb') as file:\n",
    "    mario_model_cbow5 = pkl.load(file)\n",
    "\n",
    "with open(os.path.join(model_dir, 'mario_model_skipgram2.pkl'), 'rb') as file:\n",
    "    mario_model_skipgram2 = pkl.load(file)\n",
    "\n",
    "with open(os.path.join(model_dir, 'mario_model_skipgram5.pkl'), 'rb') as file:\n",
    "    mario_model_skipgram5 = pkl.load(file)"
   ]
  },
  {
   "cell_type": "code",
   "execution_count": 40,
   "id": "027d5a15-df39-465e-96f7-34e440afac93",
   "metadata": {
    "id": "027d5a15-df39-465e-96f7-34e440afac93"
   },
   "outputs": [
    {
     "data": {
      "image/png": "[encoded data removed]",
      "text/plain": [
       "<Figure size 640x480 with 1 Axes>"
      ]
     },
     "metadata": {},
     "output_type": "display_data"
    }
   ],
   "source": [
    "plt.plot(mario_model_cbow2.time_history, mario_model_cbow2.loss_history, c='b', ls='--')\n",
    "plt.plot(mario_model_cbow5.time_history, mario_model_cbow5.loss_history, c='b')\n",
    "plt.plot(mario_model_skipgram2.time_history, mario_model_skipgram2.loss_history, c='r', ls='--')\n",
    "plt.plot(mario_model_skipgram5.time_history, mario_model_skipgram5.loss_history, c='r')\n",
    "plt.yscale(\"log\")\n",
    "plt.xlabel(\"Time (s)\")\n",
    "plt.legend([\"CBOW (M=2)\", \"CBOW (M=5)\", \"Skipgram (M=2)\", \"Skipgram (M=5)\"])\n",
    "plt.ylabel(\"Log Loss\")\n",
    "plt.savefig(\"images/log-loss.png\")"
   ]
  },
  {
   "cell_type": "code",
   "execution_count": null,
   "id": "064c0ea2-982f-433a-b6c8-f2c7e2e69c42",
   "metadata": {},
   "outputs": [],
   "source": [
    "cbow_models = [mario_model_cbow2, mario_model_cbow5]\n",
    "skipgram_models = [mario_model_skipgram2, mario_model_skipgram5]\n",
    "inputs = \"mario\"\n",
    "\n",
    "for model in cbow_models:\n",
    "    p = np.concat([model.predict(np.array([inputs]), word) for word in model.vocab_counts.keys()])\n",
    "    sorted_indices = np.flip(np.argsort(p))\n",
    "    print(f\"{model.mode} M={model.left_context_window}\")\n",
    "    words = np.array(list(model.vocab_counts.keys()))[sorted_indices]\n",
    "    ps = np.array(p)[sorted_indices]\n",
    "    for i in range(10):\n",
    "        print(words[i], ps[i])\n",
    "    print()\n",
    "\n",
    "for model in skipgram_models:\n",
    "    p = np.concat([model.predict(word, inputs) for word in model.vocab_counts.keys()])\n",
    "    sorted_indices = np.flip(np.argsort(p))\n",
    "    print(f\"{model.mode} M={model.left_context_window}\")\n",
    "    words = np.array(list(model.vocab_counts.keys()))[sorted_indices]\n",
    "    ps = np.array(p)[sorted_indices]\n",
    "    for i in range(10):\n",
    "        print(words[i], ps[i])\n",
    "    print()"
   ]
  },
  {
   "cell_type": "code",
   "execution_count": 99,
   "id": "7ead074e-f1d3-4c9b-bde4-cd793c30126c",
   "metadata": {},
   "outputs": [],
   "source": [
    "@jax.jit\n",
    "def cosine_sim(a, b):\n",
    "    return jnp.vdot(a, b) / (jnp.linalg.norm(a) * jnp.linalg.norm(b))\n",
    "\n",
    "batch_cosine_sim = jax.vmap(cosine_sim, (None, 0), 0)"
   ]
  },
  {
   "cell_type": "code",
   "execution_count": 133,
   "id": "aeb204b5-46f8-4799-83dc-53ee2d89ffd5",
   "metadata": {},
   "outputs": [
    {
     "name": "stdout",
     "output_type": "stream",
     "text": [
      "TFIDF\n",
      "the nan\n",
      "mushroom 1.0\n",
      "mushrooms 0.53424424\n",
      "capped 0.397752\n",
      "specialty 0.3535682\n",
      "occupation 0.3519605\n",
      "refined 0.35184515\n",
      "\n"
     ]
    }
   ],
   "source": [
    "models = [mario_model_cbow2, mario_model_cbow5, mario_model_skipgram2, mario_model_skipgram5]\n",
    "inputs = \"mushroom\"\n",
    "\n",
    "vocab_to_id = dict(zip(mario_vocab_counts.keys(), range(len(mario_vocab_counts))))\n",
    "\n",
    "\n",
    "sims = batch_cosine_sim(\n",
    "    mario_tfidf[vocab_to_id[inputs]], \n",
    "    mario_tfidf\n",
    ")\n",
    "sorted_indices = np.flip(np.argsort(sims))\n",
    "print(f\"TFIDF\")\n",
    "words = np.array(list(mario_vocab_counts.keys()))[sorted_indices]\n",
    "sims = sims[sorted_indices]\n",
    "for i in range(7):\n",
    "    print(words[i], sims[i])\n",
    "print()\n",
    "\n",
    "for model in models:\n",
    "    sims = batch_cosine_sim(\n",
    "        model.get_embedding(inputs), \n",
    "        jnp.array([model.get_embedding(word) for word in model.vocab_counts.keys()])\n",
    "    )\n",
    "    sorted_indices = np.flip(np.argsort(sims))\n",
    "    print(f\"{model.mode} M={model.left_context_window}\")\n",
    "    words = np.array(list(model.vocab_counts.keys()))[sorted_indices]\n",
    "    sims = sims[sorted_indices]\n",
    "    for i in range(1,6):\n",
    "        print(words[i], sims[i])\n",
    "    print()"
   ]
  },
  {
   "cell_type": "code",
   "execution_count": 157,
   "id": "a4d10c4c-c218-4913-80d5-6c4c4bf1d63a",
   "metadata": {},
   "outputs": [
    {
     "name": "stdout",
     "output_type": "stream",
     "text": [
      "``hat'' & ``cap'' & 0.079 & 0.011 & 0.011 & 0.063 & 0.063\n"
     ]
    }
   ],
   "source": [
    "models = [mario_model_cbow2, mario_model_cbow5, mario_model_skipgram2, mario_model_skipgram5]\n",
    "input1, input2 = ('good', 'bad')\n",
    "\n",
    "vals = [f\"``{input1}\\'\\'\", f\"``{input2}\\'\\'\"]\n",
    "\n",
    "vocab_to_id = dict(zip(mario_vocab_counts.keys(), range(len(mario_vocab_counts))))\n",
    "\n",
    "vals.append(str(round(float(cosine_sim(\n",
    "    mario_tfidf[vocab_to_id[input1]], \n",
    "    mario_tfidf[vocab_to_id[input2]]\n",
    ")), 3)))\n",
    "\n",
    "for model in models:\n",
    "    vals.append(str(round(float(cosine_sim(\n",
    "        model.get_embedding(input1), \n",
    "        model.get_embedding(input2)\n",
    "    )), 3)))\n",
    "\n",
    "print(\" & \".join(vals))"
   ]
  },
  {
   "cell_type": "code",
   "execution_count": null,
   "id": "4029da78-1803-47a8-bdc0-8e4820c0733e",
   "metadata": {},
   "outputs": [],
   "source": []
  }
 ],
 "metadata": {
  "accelerator": "GPU",
  "colab": {
   "gpuType": "T4",
   "provenance": []
  },
  "kernelspec": {
   "display_name": "Python 3 (ipykernel)",
   "language": "python",
   "name": "python3"
  },
  "language_info": {
   "codemirror_mode": {
    "name": "ipython",
    "version": 3
   },
   "file_extension": ".py",
   "mimetype": "text/x-python",
   "name": "python",
   "nbconvert_exporter": "python",
   "pygments_lexer": "ipython3",
   "version": "3.11.1"
  }
 },
 "nbformat": 4,
 "nbformat_minor": 5
}
